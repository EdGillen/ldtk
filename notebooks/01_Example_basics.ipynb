{
 "cells": [
  {
   "cell_type": "markdown",
   "metadata": {},
   "source": [
    "# LDTk example 1: basics"
   ]
  },
  {
   "cell_type": "markdown",
   "metadata": {},
   "source": [
    "This first example covers the basics of LDTk. We learn how to set up filters, how to use ``LDPSetCreator`` to create a set of limb darkening profiles as instances of ``LDPSet`` class, how to use these instances to estimate limb darkening coefficients from the profiles, and how to evaluate the limb darkening model likelihood directly from the profiles."
   ]
  },
  {
   "cell_type": "code",
   "execution_count": 1,
   "metadata": {
    "collapsed": false
   },
   "outputs": [
    {
     "name": "stdout",
     "output_type": "stream",
     "text": [
      "Populating the interactive namespace from numpy and matplotlib\n"
     ]
    }
   ],
   "source": [
    "%pylab inline\n",
    "from IPython.display import display, Latex\n",
    "import seaborn as sb\n",
    "sb.set_style('white')"
   ]
  },
  {
   "cell_type": "markdown",
   "metadata": {},
   "source": [
    "## Initialisation"
   ]
  },
  {
   "cell_type": "code",
   "execution_count": 2,
   "metadata": {
    "collapsed": false
   },
   "outputs": [],
   "source": [
    "from ldtk import LDPSetCreator, BoxcarFilter"
   ]
  },
  {
   "cell_type": "code",
   "execution_count": 3,
   "metadata": {
    "collapsed": false
   },
   "outputs": [],
   "source": [
    "filters = [BoxcarFilter('a',450,550),\n",
    "           BoxcarFilter('b',650,750),\n",
    "           BoxcarFilter('c',850,950)]"
   ]
  },
  {
   "cell_type": "markdown",
   "metadata": {},
   "source": [
    "First, we initialise a ``LDPSetCreator`` with the stellar parameter estimates and our filter set. This may take some time, since we also need to download the necessary model spectra to a local cache directory (can be several hundreds of MB)."
   ]
  },
  {
   "cell_type": "code",
   "execution_count": 4,
   "metadata": {
    "collapsed": false
   },
   "outputs": [],
   "source": [
    "sc = LDPSetCreator(teff=(5400,50), logg=(4.5,0.1), z=(0.25,0.05), filters=filters)"
   ]
  },
  {
   "cell_type": "markdown",
   "metadata": {},
   "source": [
    "Next, we create the limb darkening profiles with their uncertainties for each filter, all contained in an ``LDPSet`` object."
   ]
  },
  {
   "cell_type": "code",
   "execution_count": 5,
   "metadata": {
    "collapsed": false
   },
   "outputs": [],
   "source": [
    "ps = sc.create_profiles(nsamples=2000)\n",
    "ps.resample_linear_z()"
   ]
  },
  {
   "cell_type": "code",
   "execution_count": 6,
   "metadata": {
    "collapsed": false
   },
   "outputs": [
    {
     "data": {
      "image/png": "[encoded data removed]",
      "text/plain": [
       "<matplotlib.figure.Figure at 0x112772fd0>"
      ]
     },
     "metadata": {},
     "output_type": "display_data"
    }
   ],
   "source": [
    "cp = cm.spectral(linspace(0.1,1.0,6))\n",
    "\n",
    "fig,ax = subplots(1,1,figsize=(8,4), sharey=False)\n",
    "for i in range(ps._nfilters)[:5]:\n",
    "    c = cp[i]\n",
    "    ax.fill_between(ps._z, ps._mean[i]-3*ps._std[i], ps._mean[i]+3*ps._std[i], facecolor=c, alpha=0.2)\n",
    "    ax.plot(ps._z, ps._mean[i], '-', c=c)\n",
    "setp(ax, xlim=(0,1), ylim=(0.2,1.05), xlabel='z', ylabel='Flux')\n",
    "fig.tight_layout()"
   ]
  },
  {
   "cell_type": "markdown",
   "metadata": {},
   "source": [
    "## Limb darkening coefficient estimation"
   ]
  },
  {
   "cell_type": "markdown",
   "metadata": {},
   "source": [
    "The ``LDPSet`` class offers methods to estimate the limb darkening model coefficients for each filter. These methods are called ``coeffs_xx`` where ``xx`` can be\n",
    "\n",
    "  - ``ln``:  linear model    (1 coeff)\n",
    "  - ``qd``:  quadratic model (2 coeffs)\n",
    "  - ``nl``:  nonlinear model (4 coeffs)\n",
    "  - ``ge``:  general model   (n coeffs)\n",
    "  \n",
    "For the quadratic model"
   ]
  },
  {
   "cell_type": "code",
   "execution_count": 7,
   "metadata": {
    "collapsed": false
   },
   "outputs": [],
   "source": [
    "qc,qe = ps.coeffs_qd()"
   ]
  },
  {
   "cell_type": "code",
   "execution_count": 8,
   "metadata": {
    "collapsed": false
   },
   "outputs": [
    {
     "data": {
      "text/latex": [
       "u$_1 = 0.7455 \\pm 0.0010\\quad$v$_1 = 0.0392 \\pm 0.0019$"
      ],
      "text/plain": [
       "<IPython.core.display.Latex object>"
      ]
     },
     "metadata": {},
     "output_type": "display_data"
    },
    {
     "data": {
      "text/latex": [
       "u$_2 = 0.5027 \\pm 0.0007\\quad$v$_2 = 0.1118 \\pm 0.0018$"
      ],
      "text/plain": [
       "<IPython.core.display.Latex object>"
      ]
     },
     "metadata": {},
     "output_type": "display_data"
    },
    {
     "data": {
      "text/latex": [
       "u$_3 = 0.3882 \\pm 0.0005\\quad$v$_3 = 0.1131 \\pm 0.0014$"
      ],
      "text/plain": [
       "<IPython.core.display.Latex object>"
      ]
     },
     "metadata": {},
     "output_type": "display_data"
    }
   ],
   "source": [
    "for i,(c,e) in enumerate(zip(qc,qe)):\n",
    "    display(Latex('u$_{i:d} = {c[0]:5.4f} \\pm {e[0]:5.4f}\\quad$'\n",
    "                  'v$_{i:d} = {c[1]:5.4f} \\pm {e[1]:5.4f}$'.format(i=i+1,c=c,e=e)))"
   ]
  },
  {
   "cell_type": "markdown",
   "metadata": {},
   "source": [
    "We can also use MCMC to estimate the coefficient uncertainties (or the full covariance matrix) more accurately:"
   ]
  },
  {
   "cell_type": "code",
   "execution_count": 9,
   "metadata": {
    "collapsed": false
   },
   "outputs": [],
   "source": [
    "qc,qe = ps.coeffs_qd(do_mc=True, n_mc_samples=10000)"
   ]
  },
  {
   "cell_type": "code",
   "execution_count": 10,
   "metadata": {
    "collapsed": false
   },
   "outputs": [
    {
     "data": {
      "text/latex": [
       "u$_1 = 0.7455 \\pm 0.0017\\quad$v$_1 = 0.0392 \\pm 0.0031$"
      ],
      "text/plain": [
       "<IPython.core.display.Latex object>"
      ]
     },
     "metadata": {},
     "output_type": "display_data"
    },
    {
     "data": {
      "text/latex": [
       "u$_2 = 0.5027 \\pm 0.0009\\quad$v$_2 = 0.1118 \\pm 0.0025$"
      ],
      "text/plain": [
       "<IPython.core.display.Latex object>"
      ]
     },
     "metadata": {},
     "output_type": "display_data"
    },
    {
     "data": {
      "text/latex": [
       "u$_3 = 0.3882 \\pm 0.0007\\quad$v$_3 = 0.1131 \\pm 0.0019$"
      ],
      "text/plain": [
       "<IPython.core.display.Latex object>"
      ]
     },
     "metadata": {},
     "output_type": "display_data"
    }
   ],
   "source": [
    "for i,(c,e) in enumerate(zip(qc,qe)):\n",
    "    display(Latex('u$_{i:d} = {c[0]:5.4f} \\pm {e[0]:5.4f}\\quad$'\n",
    "                  'v$_{i:d} = {c[1]:5.4f} \\pm {e[1]:5.4f}$'.format(i=i+1,c=c,e=e)))"
   ]
  },
  {
   "cell_type": "markdown",
   "metadata": {},
   "source": [
    "Finally, we can decide we don't trust the stellar models the profiles were computed from too much, and set an multiplicative factor on the profile uncertainties. "
   ]
  },
  {
   "cell_type": "code",
   "execution_count": 11,
   "metadata": {
    "collapsed": false
   },
   "outputs": [
    {
     "data": {
      "text/latex": [
       "u$_1 = 0.7456 \\pm 0.0030\\quad$v$_1 = 0.0391 \\pm 0.0060$"
      ],
      "text/plain": [
       "<IPython.core.display.Latex object>"
      ]
     },
     "metadata": {},
     "output_type": "display_data"
    },
    {
     "data": {
      "text/latex": [
       "u$_2 = 0.5027 \\pm 0.0020\\quad$v$_2 = 0.1118 \\pm 0.0051$"
      ],
      "text/plain": [
       "<IPython.core.display.Latex object>"
      ]
     },
     "metadata": {},
     "output_type": "display_data"
    },
    {
     "data": {
      "text/latex": [
       "u$_3 = 0.3882 \\pm 0.0013\\quad$v$_3 = 0.1131 \\pm 0.0038$"
      ],
      "text/plain": [
       "<IPython.core.display.Latex object>"
      ]
     },
     "metadata": {},
     "output_type": "display_data"
    }
   ],
   "source": [
    "ps.set_uncertainty_multiplier(2)\n",
    "\n",
    "qc,qe = ps.coeffs_qd(do_mc=True, n_mc_samples=10000)\n",
    "\n",
    "for i,(c,e) in enumerate(zip(qc,qe)):\n",
    "    display(Latex('u$_{i:d} = {c[0]:5.4f} \\pm {e[0]:5.4f}\\quad$'\n",
    "                  'v$_{i:d} = {c[1]:5.4f} \\pm {e[1]:5.4f}$'.format(i=i+1,c=c,e=e)))"
   ]
  },
  {
   "cell_type": "markdown",
   "metadata": {},
   "source": [
    "### Likelihood evaluation"
   ]
  },
  {
   "cell_type": "markdown",
   "metadata": {},
   "source": [
    "We can also directly evaluate the likelihood for a model. This can be done for a single passband"
   ]
  },
  {
   "cell_type": "code",
   "execution_count": 12,
   "metadata": {
    "collapsed": false
   },
   "outputs": [
    {
     "name": "stdout",
     "output_type": "stream",
     "text": [
      "376.257516171\n"
     ]
    }
   ],
   "source": [
    "print (ps.lnlike_qd([0.69, 0.15], flt=0))"
   ]
  },
  {
   "cell_type": "markdown",
   "metadata": {},
   "source": [
    "jointly for all passbands"
   ]
  },
  {
   "cell_type": "code",
   "execution_count": 13,
   "metadata": {
    "collapsed": false
   },
   "outputs": [
    {
     "name": "stdout",
     "output_type": "stream",
     "text": [
      "1292.45775637\n",
      "1292.45775637\n"
     ]
    }
   ],
   "source": [
    "print (ps.lnlike_qd([ 0.69, 0.15,   0.48 ,0.16,   0.38, 0.15]))\n",
    "print (ps.lnlike_qd([[0.69, 0.15], [0.48 ,0.16], [0.38, 0.15]]))"
   ]
  },
  {
   "cell_type": "markdown",
   "metadata": {},
   "source": [
    "or separately for all passbands"
   ]
  },
  {
   "cell_type": "code",
   "execution_count": 14,
   "metadata": {
    "collapsed": false
   },
   "outputs": [
    {
     "name": "stdout",
     "output_type": "stream",
     "text": [
      "[ 376.25751617  517.65408847  398.54615173]\n",
      "[ 376.25751617  517.65408847  398.54615173]\n"
     ]
    }
   ],
   "source": [
    "print (ps.lnlike_qd([ 0.69, 0.15,   0.48, 0.16,   0.38, 0.15],  joint=False))\n",
    "print (ps.lnlike_qd([[0.69, 0.15], [0.48, 0.16], [0.38, 0.15]], joint=False))"
   ]
  },
  {
   "cell_type": "markdown",
   "metadata": {},
   "source": [
    "---\n",
    "<center> &copy; 2015&ndash;2017 <a href=\"mailto:hannu.parviainen@physics.ox.ac.uk\">Hannu Parviainen</a></center>"
   ]
  }
 ],
 "metadata": {
  "kernelspec": {
   "display_name": "Python [default]",
   "language": "python",
   "name": "python3"
  },
  "language_info": {
   "codemirror_mode": {
    "name": "ipython",
    "version": 3
   },
   "file_extension": ".py",
   "mimetype": "text/x-python",
   "name": "python",
   "nbconvert_exporter": "python",
   "pygments_lexer": "ipython3",
   "version": "3.5.2"
  }
 },
 "nbformat": 4,
 "nbformat_minor": 0
}
